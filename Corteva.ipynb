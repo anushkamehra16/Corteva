{
 "cells": [
  {
   "cell_type": "markdown",
   "id": "12a22ea9",
   "metadata": {},
   "source": [
    "## Reading the files in wx_data folder to a Pandas dataframe"
   ]
  },
  {
   "cell_type": "code",
   "execution_count": null,
   "id": "ecddce00",
   "metadata": {},
   "outputs": [],
   "source": [
    "import glob\n",
    "import pandas as pd\n",
    "import os"
   ]
  },
  {
   "cell_type": "code",
   "execution_count": null,
   "id": "14daeea8",
   "metadata": {},
   "outputs": [],
   "source": [
    "data_files = glob.glob('wx_data/*.txt')"
   ]
  },
  {
   "cell_type": "code",
   "execution_count": null,
   "id": "0eb8897f",
   "metadata": {},
   "outputs": [],
   "source": [
    "print(data_files)"
   ]
  },
  {
   "cell_type": "code",
   "execution_count": null,
   "id": "8ffd0516",
   "metadata": {},
   "outputs": [],
   "source": [
    "## Reading all the text files to a dataframe \n",
    "df = pd.concat((pd.read_csv(file, sep='\\t', header=None) for file in data_files))"
   ]
  },
  {
   "cell_type": "code",
   "execution_count": null,
   "id": "bea591f8",
   "metadata": {},
   "outputs": [],
   "source": [
    "## Defining column names to the dataframe\n",
    "df.columns = ['weather_date','max_temp','min_temp','precipitation']"
   ]
  },
  {
   "cell_type": "code",
   "execution_count": null,
   "id": "f6662bf1",
   "metadata": {},
   "outputs": [],
   "source": [
    "## Modifying the type for date column (weather_date)\n",
    "df['weather_date'] = pd.to_datetime(df['weather_date'].astype(str), format='%Y%m%d')"
   ]
  },
  {
   "cell_type": "markdown",
   "id": "0d859cf7",
   "metadata": {},
   "source": [
    "#### Modifying the values in temperature and precipitation column to contain the right values in celsius and millimeters respectively"
   ]
  },
  {
   "cell_type": "code",
   "execution_count": null,
   "id": "2840b8ff",
   "metadata": {},
   "outputs": [],
   "source": [
    "df['max_temp'] = df['max_temp']/10"
   ]
  },
  {
   "cell_type": "code",
   "execution_count": null,
   "id": "5f5fabcc",
   "metadata": {},
   "outputs": [],
   "source": [
    "df['min_temp'] = df['min_temp']/10\n",
    "df['precipitation'] = df['precipitation']/10"
   ]
  },
  {
   "cell_type": "code",
   "execution_count": null,
   "id": "3b406e25",
   "metadata": {},
   "outputs": [],
   "source": [
    "pd.set_option('display.max_rows',None)"
   ]
  },
  {
   "cell_type": "markdown",
   "id": "a6e266a5",
   "metadata": {},
   "source": [
    "#### Adding a column Updated_at to keep track of changes in the values in the table"
   ]
  },
  {
   "cell_type": "code",
   "execution_count": null,
   "id": "0b1ce793",
   "metadata": {},
   "outputs": [],
   "source": [
    "df['updated_at'] = pd.Timestamp.utcnow()"
   ]
  },
  {
   "cell_type": "markdown",
   "id": "4ef041a0",
   "metadata": {},
   "source": [
    "## Connecting to MySQL database using the SQLAlchemy module"
   ]
  },
  {
   "cell_type": "code",
   "execution_count": null,
   "id": "ec6b36b6",
   "metadata": {},
   "outputs": [],
   "source": [
    "import mysql.connector as msql\n",
    "from mysql.connector import Error"
   ]
  },
  {
   "cell_type": "code",
   "execution_count": null,
   "id": "c0ba1340",
   "metadata": {},
   "outputs": [],
   "source": [
    "from sqlalchemy import create_engine\n",
    "my_conn = create_engine(\"mysql+pymysql://root:<password>@localhost/<database>\")"
   ]
  },
  {
   "cell_type": "code",
   "execution_count": null,
   "id": "b6227ab4",
   "metadata": {},
   "outputs": [],
   "source": [
    "# Converting the files to a sql table named weather \n",
    "df.to_sql('weather', con=my_conn, if_exists = 'replace', index=False)"
   ]
  },
  {
   "cell_type": "markdown",
   "id": "25027183",
   "metadata": {},
   "source": [
    "### In the similar way, when new data needs to be updated to the table, the data is first inserted to a 'Staging table'. This Staging table will only hold the most recent incoming data. The data is loaded in the same way as mentioned above to load the initial data."
   ]
  },
  {
   "cell_type": "code",
   "execution_count": null,
   "id": "411f4b84",
   "metadata": {},
   "outputs": [],
   "source": [
    "my_conn.execute('select * from stage_data').fetchall()"
   ]
  },
  {
   "cell_type": "code",
   "execution_count": null,
   "id": "204850e6",
   "metadata": {},
   "outputs": [],
   "source": [
    "# Using MySQL connector now to connect to the MySQL table\n",
    "\n",
    "import mysql.connector\n",
    "\n",
    "# Connect to the MySQL database\n",
    "cnx = mysql.connector.connect(user='<username>', password='<password>',\n",
    "                              host='localhost', database='CortevaCrop')\n",
    "cursor = cnx.cursor()"
   ]
  },
  {
   "cell_type": "code",
   "execution_count": null,
   "id": "13f90bc2",
   "metadata": {},
   "outputs": [],
   "source": [
    "# Define the source table and destination table\n",
    "source_table = 'stage_data'\n",
    "destination_table = 'weather'\n"
   ]
  },
  {
   "cell_type": "code",
   "execution_count": null,
   "id": "e2aff5c4",
   "metadata": {},
   "outputs": [],
   "source": [
    "# Define the columns to be merged\n",
    "columns = ['weather_date', 'max_temp', 'min_temp', 'precipitation', 'updated_at']\n",
    "\n",
    "# Define the query to merge the tables\n",
    "merge_query = f\"INSERT INTO {destination_table} SELECT * FROM {source_table} \" \\\n",
    "              f\"ON DUPLICATE KEY UPDATE \" \\\n",
    "              f\"{', '.join([f'{col}=VALUES({col})' for col in columns])}\""
   ]
  },
  {
   "cell_type": "code",
   "execution_count": null,
   "id": "35b2a0f7",
   "metadata": {},
   "outputs": [],
   "source": [
    "# Execute the query to merge the tables\n",
    "cursor.execute(merge_query)\n",
    "cnx.commit()\n",
    "\n",
    "# Close the database connection\n",
    "cursor.close()\n",
    "cnx.close()"
   ]
  },
  {
   "cell_type": "markdown",
   "id": "9fcc6b89",
   "metadata": {},
   "source": [
    "### Creating a Table which will hold aggregated data. It is a dimension table for the 'weather' table. "
   ]
  },
  {
   "cell_type": "code",
   "execution_count": null,
   "id": "b1d6e8c9",
   "metadata": {},
   "outputs": [],
   "source": [
    "# create a cursor object to execute SQL queries\n",
    "cursor = cnx.cursor()\n",
    "\n",
    "# create a new table to store the yearly weather statistics\n",
    "create_table_query = \"\"\"\n",
    "    CREATE TABLE IF NOT EXISTS yearly_weather_stats (\n",
    "        year INT NOT NULL,\n",
    "        avg_max_temperature DEFAULT NULL,\n",
    "        avg_min_temperature DEFAULT NULL,\n",
    "        total_precipitation DEFAULT NULL,\n",
    "        PRIMARY KEY (year)\n",
    "    )\n",
    "\"\"\"\n",
    "cursor.execute(create_table_query)\n",
    "\n",
    "# calculate the yearly average min and max temperature and total accumulated precipitation and insert the results into the new table\n",
    "insert_query = \"\"\"\n",
    "    INSERT INTO yearly_weather_stats (year, avg_max_temperature,avg_min_temperature, total_precipitation)\n",
    "    SELECT YEAR(weather_date) AS year,\n",
    "           AVG(max_temp) AS avg_max_temperature,\n",
    "           AVG(min_temp) AS avg_min_temperature,\n",
    "           SUM(precipitation) AS total_precipitation\n",
    "    FROM weather\n",
    "    ON DUPLICATE KEY UPDATE year = year, \n",
    "                            avg_max_temperature = avg_max_temperature,\n",
    "                            avg_max_temperature = avg_max_temperature,\n",
    "                            total_precipitation = total_precipitation\n",
    "    GROUP BY YEAR(weather_date)\n",
    "\"\"\"\n",
    "cursor.execute(insert_query)\n",
    "\n",
    "# commit the changes and close the cursor and database connection\n",
    "cnx.commit()\n",
    "cursor.close()\n",
    "cnx.close()"
   ]
  },
  {
   "cell_type": "code",
   "execution_count": null,
   "id": "d1944ac5",
   "metadata": {},
   "outputs": [],
   "source": []
  }
 ],
 "metadata": {
  "kernelspec": {
   "display_name": "Python 3 (ipykernel)",
   "language": "python",
   "name": "python3"
  },
  "language_info": {
   "codemirror_mode": {
    "name": "ipython",
    "version": 3
   },
   "file_extension": ".py",
   "mimetype": "text/x-python",
   "name": "python",
   "nbconvert_exporter": "python",
   "pygments_lexer": "ipython3",
   "version": "3.9.13"
  }
 },
 "nbformat": 4,
 "nbformat_minor": 5
}
